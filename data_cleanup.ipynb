{
 "cells": [
  {
   "cell_type": "code",
   "execution_count": 4,
   "metadata": {},
   "outputs": [
    {
     "name": "stdout",
     "output_type": "stream",
     "text": [
      "Processed: ACSDP5Y2011.DP03-Data.csv\n"
     ]
    },
    {
     "name": "stderr",
     "output_type": "stream",
     "text": [
      "C:\\Users\\valer\\AppData\\Roaming\\Python\\Python37\\site-packages\\IPython\\core\\interactiveshell.py:3258: DtypeWarning: Columns (2,3,4,6,7,10,11,14,15,18,19,22,23,26,27,30,31,32,38,39,40,42,43,46,47,50,51,54,55,56,58,59,62,63,64,66,67,70,71,72,74,75,78,79,82,83,86,87,90,91,94,95,102,103,104,106,107,110,111,114,115,118,119,122,123,126,127,128,130,131,134,135,138,139,142,143,146,147,150,151,154,155,158,159,162,163,166,167,170,171,174,175,178,179,182,183,184,186,187,190,191,194,195,198,199,202,203,204,206,207,210,211,214,215,218,219,222,223,226,227,230,231,234,235,238,239,242,243,254,255,262,263,270,271,278,279,286,287,294,295,298,299,300,302,303,306,307,310,311,314,315,318,319,322,323,326,327,330,331,334,335,338,339,354,355,356,378,379,380,382,383,386,387,390,391,394,395,398,399,400,402,403,406,407,408,410,411,412,414,415,416,418,419,422,423,426,427,430,431,434,435,436,438,439,442,443,446,447,450,451,454,455,456,458,459,462,463,466,467,470,471) have mixed types.Specify dtype option on import or set low_memory=False.\n",
      "  interactivity=interactivity, compiler=compiler, result=result)\n"
     ]
    },
    {
     "name": "stdout",
     "output_type": "stream",
     "text": [
      "Processed: ACSDP5Y2012.DP03-Data.csv\n",
      "Processed: ACSDP5Y2013.DP03-Data.csv\n",
      "Processed: ACSDP5Y2014.DP03-Data.csv\n",
      "Processed: ACSDP5Y2015.DP03-Data.csv\n",
      "Processed: ACSDP5Y2016.DP03-Data.csv\n"
     ]
    },
    {
     "name": "stderr",
     "output_type": "stream",
     "text": [
      "C:\\Users\\valer\\AppData\\Roaming\\Python\\Python37\\site-packages\\IPython\\core\\interactiveshell.py:3258: DtypeWarning: Columns (2,3,4,5,6,7,8,9,10,11,12,13,14,15,16,17,20,21,22,23,24,25,26,27,28,29,30,31,32,33,34,35,36,37,38,39,40,41,42,43,44,45,46,47,48,49,52,53,54,55,56,57,58,59,60,61,62,63,64,65,66,67,68,69,70,71,72,73,74,75,76,77,78,79,80,81,82,83,84,85,86,87,88,89,90,91,92,93,94,95,96,97,98,99,100,101,102,103,104,105,106,107,108,109,110,111,112,113,114,115,116,117,118,119,120,121,122,123,128,129,132,133,136,137,140,141,144,145,148,149,150,151,152,153,154,155,156,157,158,159,160,161,162,163,164,165,166,167,168,169,170,171,178,179,190,191,192,193,194,195,196,197,198,199,200,201,202,203,204,205,206,207,208,209,210,211,212,213,214,215,216,217,218,219,220,221,222,223,224,225,226,227,228,229,230,231,232,233,234,235,236,237,276,290,294,302,306,310,326,338,366,376,424,452,464,474,478,480,482,492,502) have mixed types.Specify dtype option on import or set low_memory=False.\n",
      "  interactivity=interactivity, compiler=compiler, result=result)\n"
     ]
    },
    {
     "name": "stdout",
     "output_type": "stream",
     "text": [
      "Processed: ACSDP5Y2017.DP03-Data.csv\n"
     ]
    },
    {
     "name": "stderr",
     "output_type": "stream",
     "text": [
      "C:\\Users\\valer\\AppData\\Roaming\\Python\\Python37\\site-packages\\IPython\\core\\interactiveshell.py:3258: DtypeWarning: Columns (2,3,4,5,6,7,8,9,10,11,12,13,14,15,16,17,20,21,22,23,24,25,26,27,28,29,30,31,32,33,34,35,36,37,38,39,40,41,42,43,44,45,46,47,48,49,52,53,54,55,56,57,58,59,60,61,62,63,64,65,66,67,68,69,70,71,72,73,74,75,76,77,78,79,80,81,82,83,84,85,86,87,88,89,90,91,92,93,94,95,96,97,98,99,100,101,102,103,104,105,106,107,108,109,110,111,112,113,114,115,116,117,118,119,120,121,122,123,128,129,132,133,136,137,140,141,144,145,148,149,150,151,152,153,154,155,156,157,158,159,160,161,162,163,164,165,166,167,168,169,170,171,178,179,190,191,192,193,194,195,196,197,198,199,200,201,202,203,204,205,206,207,208,209,210,211,212,213,214,215,216,217,218,219,220,221,222,223,224,225,226,227,228,229,230,231,232,233,234,235,236,237,276,278,279,280,281,282,283,284,285,286,287,288,289,290,294,296,297,298,299,300,301,302,306,310,326,338,366,376,424,452,464,466,467,468,469,470,471,472,473,474,478,480,482,492,502,530,531,540,541) have mixed types.Specify dtype option on import or set low_memory=False.\n",
      "  interactivity=interactivity, compiler=compiler, result=result)\n"
     ]
    },
    {
     "name": "stdout",
     "output_type": "stream",
     "text": [
      "Processed: ACSDP5Y2018.DP03-Data.csv\n",
      "Processed: ACSDP5Y2019.DP03-Data.csv\n",
      "Processed: ACSDP5Y2020.DP03-Data.csv\n",
      "Processed: ACSDP5Y2021.DP03-Data.csv\n",
      "Processed: ACSDP5Y2022.DP03-Data.csv\n",
      "Processed: ACSDP5Y2023.DP03-Data.csv\n"
     ]
    }
   ],
   "source": [
    "import pandas as pd\n",
    "import os\n",
    "\n",
    "# Define the folder paths\n",
    "folder_paths = [\"DP03\"]\n",
    "\n",
    "# Define the columns you want to exclude from each folder\n",
    "exclude_columns_dp02 = ['DP02_0015PE', 'DP02_0016PE', 'DP02_0038PE', 'DP02_0039PE', 'DP02_0040PE', 'DP02_0041PE', 'DP02_0042PE']\n",
    "exclude_columns_dp03 = ['DP03_0025PE', 'DP03_0062PE', 'DP03_0063PE', 'DP03_0065PE', 'DP03_0067PE', 'DP03_0069PE', 'DP03_0071PE', 'DP03_0073PE', 'DP03_0086PE', 'DP03_0087PE', 'DP03_0088PE', 'DP03_0090PE', 'DP03_0091PE', 'DP03_0092PE', 'DP03_0093PE', 'DP03_0094PE']\n",
    "\n",
    "for folder_path in folder_paths:\n",
    "    for file in os.listdir(folder_path):\n",
    "        if file.endswith(\".csv\"):  # Ensure it's a CSV file\n",
    "            file_path = os.path.join(folder_path, file)\n",
    "\n",
    "            # Load the CSV\n",
    "            df = pd.read_csv(file_path)\n",
    "\n",
    "            # Extract ZCTA from the \"GEO_ID\" column (assumes it's the first column)\n",
    "            df['GEO_ID'] = df['GEO_ID'].astype(str).str[-5:]\n",
    "\n",
    "            # Determine which columns to keep (exclude \"PE\" columns and include corresponding \"E\" columns)\n",
    "            if folder_path == \"DP02\":\n",
    "                exclude_columns = exclude_columns_dp02\n",
    "            elif folder_path == \"DP03\":\n",
    "                exclude_columns = exclude_columns_dp03\n",
    "\n",
    "            # Include the first two columns, those ending in \"PE\" that are not in the exclude list, and their \"E\" equivalents\n",
    "            selected_columns = df.columns[:2].tolist() + [\n",
    "                col.replace('PE', 'E') for col in df.columns if col.endswith(\"PE\") and col not in exclude_columns\n",
    "            ]\n",
    "            df_filtered = df[selected_columns]\n",
    "\n",
    "            # Remove rows with Geography ending in 00600-00999 (Puerto Rico ZCTAs with no DP02 data)\n",
    "            pattern = r\"8600000US(00[6-9][0-9][0-9])$\"\n",
    "            df_filtered = df_filtered[~df_filtered[\"GEO_ID\"].astype(str).str.match(pattern, na=False)]\n",
    "\n",
    "            # Save the filtered data back to CSV\n",
    "            df_filtered.to_csv(file_path, index=False)\n",
    "            print(f\"Processed: {file}\")\n"
   ]
  },
  {
   "cell_type": "code",
   "execution_count": null,
   "metadata": {},
   "outputs": [
    {
     "name": "stdout",
     "output_type": "stream",
     "text": [
      "DP02\n"
     ]
    },
    {
     "name": "stderr",
     "output_type": "stream",
     "text": [
      "C:\\Users\\valer\\AppData\\Roaming\\Python\\Python37\\site-packages\\IPython\\core\\interactiveshell.py:3258: DtypeWarning: Columns (2,18,25,31,37,44,50,53,59,69,79,87,94,97,98,101,104,111,123) have mixed types.Specify dtype option on import or set low_memory=False.\n",
      "  interactivity=interactivity, compiler=compiler, result=result)\n",
      "C:\\Users\\valer\\AppData\\Roaming\\Python\\Python37\\site-packages\\IPython\\core\\interactiveshell.py:3258: DtypeWarning: Columns (2,18,25,31,37,44,50,53,59,69,71,73,75,77,79,87,94,97,98,101,104,111,123) have mixed types.Specify dtype option on import or set low_memory=False.\n",
      "  interactivity=interactivity, compiler=compiler, result=result)\n",
      "C:\\Users\\valer\\AppData\\Roaming\\Python\\Python37\\site-packages\\IPython\\core\\interactiveshell.py:3258: DtypeWarning: Columns (2,18,25,31,37,44,50,53,59,69,71,73,75,77,79,87,94,97,98,101,104,111,123,151) have mixed types.Specify dtype option on import or set low_memory=False.\n",
      "  interactivity=interactivity, compiler=compiler, result=result)\n",
      "C:\\Users\\valer\\AppData\\Roaming\\Python\\Python37\\site-packages\\IPython\\core\\interactiveshell.py:3258: DtypeWarning: Columns (2,19,26,32,38,45,51,54,60,70,72,74,76,78,80,88,95,98,99,102,105,112,124,152) have mixed types.Specify dtype option on import or set low_memory=False.\n",
      "  interactivity=interactivity, compiler=compiler, result=result)\n",
      "C:\\Users\\valer\\AppData\\Roaming\\Python\\Python37\\site-packages\\IPython\\core\\interactiveshell.py:3258: DtypeWarning: Columns (2,19,26,32,38,45,51,54,60,70,72,74,76,78,80,89,96,99,100,103,106,113,125,153) have mixed types.Specify dtype option on import or set low_memory=False.\n",
      "  interactivity=interactivity, compiler=compiler, result=result)\n"
     ]
    },
    {
     "name": "stdout",
     "output_type": "stream",
     "text": [
      "Year 2011: Missing columns -> ['DP02_0015PE', 'DP02_0016PE', 'DP02_0038PE', 'DP02_0039PE', 'DP02_0040PE', 'DP02_0041PE', 'DP02_0042PE', 'DP02_0070PE', 'DP02_0071PE', 'DP02_0072PE', 'DP02_0073PE', 'DP02_0074PE', 'DP02_0075PE', 'DP02_0076PE', 'DP02_0077PE']\n",
      "Year 2012: Missing columns -> ['DP02_0015PE', 'DP02_0016PE', 'DP02_0038PE', 'DP02_0039PE', 'DP02_0040PE', 'DP02_0041PE', 'DP02_0042PE']\n",
      "Year 2013: Missing columns -> ['DP02_0015PE', 'DP02_0016PE', 'DP02_0038PE', 'DP02_0039PE', 'DP02_0040PE', 'DP02_0041PE', 'DP02_0042PE', 'DP02_0150PE', 'DP02_0151PE', 'DP02_0152PE']\n",
      "Year 2014: Missing columns -> ['DP02_0015PE', 'DP02_0016PE', 'DP02_0038PE', 'DP02_0039PE', 'DP02_0040PE', 'DP02_0041PE', 'DP02_0042PE', 'DP02_0150PE', 'DP02_0151PE', 'DP02_0152PE']\n",
      "Year 2015: Missing columns -> ['DP02_0015PE', 'DP02_0016PE', 'DP02_0038PE', 'DP02_0039PE', 'DP02_0040PE', 'DP02_0041PE', 'DP02_0042PE', 'DP02_0150PE', 'DP02_0151PE', 'DP02_0152PE']\n",
      "Year 2016: Missing columns -> ['DP02_0015PE', 'DP02_0016PE', 'DP02_0038PE', 'DP02_0039PE', 'DP02_0040PE', 'DP02_0041PE', 'DP02_0042PE', 'DP02_0150PE', 'DP02_0151PE', 'DP02_0152PE']\n",
      "Year 2017: Missing columns -> ['DP02_0015PE', 'DP02_0016PE', 'DP02_0038PE', 'DP02_0039PE', 'DP02_0040PE', 'DP02_0041PE', 'DP02_0042PE']\n",
      "Year 2018: Missing columns -> ['DP02_0015PE', 'DP02_0016PE', 'DP02_0038PE', 'DP02_0039PE', 'DP02_0040PE', 'DP02_0041PE', 'DP02_0042PE']\n",
      "Year 2019: Missing columns -> ['DP02_0016PE', 'DP02_0017PE', 'DP02_0039PE', 'DP02_0040PE', 'DP02_0041PE', 'DP02_0042PE', 'DP02_0043PE']\n",
      "Year 2020: Missing columns -> ['DP02_0003PE', 'DP02_0005PE', 'DP02_0007PE', 'DP02_0011PE', 'DP02_0016PE', 'DP02_0017PE', 'DP02_0039PE', 'DP02_0040PE', 'DP02_0041PE', 'DP02_0042PE', 'DP02_0043PE']\n",
      "Year 2021: Missing columns -> ['DP02_0016PE', 'DP02_0017PE', 'DP02_0039PE', 'DP02_0040PE', 'DP02_0041PE', 'DP02_0042PE', 'DP02_0043PE']\n",
      "Year 2022: Missing columns -> ['DP02_0016PE', 'DP02_0017PE', 'DP02_0039PE', 'DP02_0040PE', 'DP02_0041PE', 'DP02_0042PE', 'DP02_0043PE']\n",
      "Year 2023: Missing columns -> ['DP02_0016PE', 'DP02_0017PE', 'DP02_0039PE', 'DP02_0040PE', 'DP02_0041PE', 'DP02_0042PE', 'DP02_0043PE']\n",
      "DP03\n"
     ]
    },
    {
     "name": "stderr",
     "output_type": "stream",
     "text": [
      "C:\\Users\\valer\\AppData\\Roaming\\Python\\Python37\\site-packages\\IPython\\core\\interactiveshell.py:3258: DtypeWarning: Columns (2,9,11,15,17,19,27,33,47,52,76,90) have mixed types.Specify dtype option on import or set low_memory=False.\n",
      "  interactivity=interactivity, compiler=compiler, result=result)\n",
      "C:\\Users\\valer\\AppData\\Roaming\\Python\\Python37\\site-packages\\IPython\\core\\interactiveshell.py:3258: DtypeWarning: Columns (2,9,11,15,17,19,27,33,47,52,76,90,96,101,103,104,105,110,115) have mixed types.Specify dtype option on import or set low_memory=False.\n",
      "  interactivity=interactivity, compiler=compiler, result=result)\n"
     ]
    },
    {
     "name": "stdout",
     "output_type": "stream",
     "text": [
      "Year 2011: Missing columns -> ['DP03_0025PE', 'DP03_0062PE', 'DP03_0063PE', 'DP03_0065PE', 'DP03_0067PE', 'DP03_0069PE', 'DP03_0071PE', 'DP03_0073PE', 'DP03_0086PE', 'DP03_0087PE', 'DP03_0088PE', 'DP03_0090PE', 'DP03_0091PE', 'DP03_0092PE', 'DP03_0093PE', 'DP03_0094PE', 'DP03_0095PE', 'DP03_0096PE', 'DP03_0097PE', 'DP03_0098PE', 'DP03_0099PE', 'DP03_0100PE', 'DP03_0101PE', 'DP03_0102PE', 'DP03_0103PE', 'DP03_0104PE', 'DP03_0105PE', 'DP03_0106PE', 'DP03_0107PE', 'DP03_0108PE', 'DP03_0109PE', 'DP03_0110PE', 'DP03_0111PE', 'DP03_0112PE', 'DP03_0113PE', 'DP03_0114PE', 'DP03_0115PE', 'DP03_0116PE', 'DP03_0117PE', 'DP03_0118PE']\n",
      "Year 2012: Missing columns -> ['DP03_0025PE', 'DP03_0062PE', 'DP03_0063PE', 'DP03_0065PE', 'DP03_0067PE', 'DP03_0069PE', 'DP03_0071PE', 'DP03_0073PE', 'DP03_0086PE', 'DP03_0087PE', 'DP03_0088PE', 'DP03_0090PE', 'DP03_0091PE', 'DP03_0092PE', 'DP03_0093PE', 'DP03_0094PE']\n",
      "Year 2013: Missing columns -> ['DP03_0025PE', 'DP03_0062PE', 'DP03_0063PE', 'DP03_0065PE', 'DP03_0067PE', 'DP03_0069PE', 'DP03_0071PE', 'DP03_0073PE', 'DP03_0086PE', 'DP03_0087PE', 'DP03_0088PE', 'DP03_0090PE', 'DP03_0091PE', 'DP03_0092PE', 'DP03_0093PE', 'DP03_0094PE']\n",
      "Year 2014: Missing columns -> ['DP03_0025PE', 'DP03_0062PE', 'DP03_0063PE', 'DP03_0065PE', 'DP03_0067PE', 'DP03_0069PE', 'DP03_0071PE', 'DP03_0073PE', 'DP03_0086PE', 'DP03_0087PE', 'DP03_0088PE', 'DP03_0090PE', 'DP03_0091PE', 'DP03_0092PE', 'DP03_0093PE', 'DP03_0094PE']\n",
      "Year 2015: Missing columns -> ['DP03_0025PE', 'DP03_0062PE', 'DP03_0063PE', 'DP03_0065PE', 'DP03_0067PE', 'DP03_0069PE', 'DP03_0071PE', 'DP03_0073PE', 'DP03_0086PE', 'DP03_0087PE', 'DP03_0088PE', 'DP03_0090PE', 'DP03_0091PE', 'DP03_0092PE', 'DP03_0093PE', 'DP03_0094PE']\n",
      "Year 2016: Missing columns -> ['DP03_0025PE', 'DP03_0062PE', 'DP03_0063PE', 'DP03_0065PE', 'DP03_0067PE', 'DP03_0069PE', 'DP03_0071PE', 'DP03_0073PE', 'DP03_0086PE', 'DP03_0087PE', 'DP03_0088PE', 'DP03_0090PE', 'DP03_0091PE', 'DP03_0092PE', 'DP03_0093PE', 'DP03_0094PE']\n",
      "Year 2017: Missing columns -> ['DP03_0025PE', 'DP03_0062PE', 'DP03_0063PE', 'DP03_0065PE', 'DP03_0067PE', 'DP03_0069PE', 'DP03_0071PE', 'DP03_0073PE', 'DP03_0086PE', 'DP03_0087PE', 'DP03_0088PE', 'DP03_0090PE', 'DP03_0091PE', 'DP03_0092PE', 'DP03_0093PE', 'DP03_0094PE']\n",
      "Year 2018: Missing columns -> ['DP03_0025PE', 'DP03_0062PE', 'DP03_0063PE', 'DP03_0065PE', 'DP03_0067PE', 'DP03_0069PE', 'DP03_0071PE', 'DP03_0073PE', 'DP03_0086PE', 'DP03_0087PE', 'DP03_0088PE', 'DP03_0090PE', 'DP03_0091PE', 'DP03_0092PE', 'DP03_0093PE', 'DP03_0094PE']\n",
      "Year 2019: Missing columns -> ['DP03_0025PE', 'DP03_0062PE', 'DP03_0063PE', 'DP03_0065PE', 'DP03_0067PE', 'DP03_0069PE', 'DP03_0071PE', 'DP03_0073PE', 'DP03_0086PE', 'DP03_0087PE', 'DP03_0088PE', 'DP03_0090PE', 'DP03_0091PE', 'DP03_0092PE', 'DP03_0093PE', 'DP03_0094PE']\n",
      "Year 2020: Missing columns -> ['DP03_0025PE', 'DP03_0062PE', 'DP03_0063PE', 'DP03_0065PE', 'DP03_0067PE', 'DP03_0069PE', 'DP03_0071PE', 'DP03_0073PE', 'DP03_0086PE', 'DP03_0087PE', 'DP03_0088PE', 'DP03_0090PE', 'DP03_0091PE', 'DP03_0092PE', 'DP03_0093PE', 'DP03_0094PE']\n",
      "Year 2021: Missing columns -> ['DP03_0025PE', 'DP03_0062PE', 'DP03_0063PE', 'DP03_0065PE', 'DP03_0067PE', 'DP03_0069PE', 'DP03_0071PE', 'DP03_0073PE', 'DP03_0086PE', 'DP03_0087PE', 'DP03_0088PE', 'DP03_0090PE', 'DP03_0091PE', 'DP03_0092PE', 'DP03_0093PE', 'DP03_0094PE']\n",
      "Year 2022: Missing columns -> ['DP03_0025PE', 'DP03_0062PE', 'DP03_0063PE', 'DP03_0065PE', 'DP03_0067PE', 'DP03_0069PE', 'DP03_0071PE', 'DP03_0073PE', 'DP03_0086PE', 'DP03_0087PE', 'DP03_0088PE', 'DP03_0090PE', 'DP03_0091PE', 'DP03_0092PE', 'DP03_0093PE', 'DP03_0094PE']\n",
      "Year 2023: Missing columns -> ['DP03_0025PE', 'DP03_0062PE', 'DP03_0063PE', 'DP03_0065PE', 'DP03_0067PE', 'DP03_0069PE', 'DP03_0071PE', 'DP03_0073PE', 'DP03_0086PE', 'DP03_0087PE', 'DP03_0088PE', 'DP03_0090PE', 'DP03_0091PE', 'DP03_0092PE', 'DP03_0093PE', 'DP03_0094PE']\n"
     ]
    }
   ],
   "source": [
    "# Here we are listing the columns that were not collected in a given year \n",
    "# this is to analyze this missing data \n",
    "# the missing columns in DP03 relate to benefits\n",
    "for folder_path in folder_paths:\n",
    "    print (folder_path)\n",
    "    missing_columns_by_year = {}\n",
    "\n",
    "    for file in os.listdir(folder_path):\n",
    "        if file.endswith(\".csv\"):\n",
    "            file_path = os.path.join(folder_path, file)\n",
    "\n",
    "            df = pd.read_csv(file_path)\n",
    "\n",
    "            year = file.split('Y')[1][:4]        \n",
    "\n",
    "            second_row = df.iloc[1]\n",
    "            \n",
    "            # Find columns that contain \"(X)\" in the second row, they were not collected in the given year\n",
    "            missing_columns = second_row[second_row == \"(X)\"].index.tolist()\n",
    "            \n",
    "            missing_columns_by_year[year] = missing_columns\n",
    "\n",
    "    for year, columns in sorted(missing_columns_by_year.items()):\n",
    "        print(f\"Year {year}: Missing columns -> {columns}\")"
   ]
  },
  {
   "cell_type": "code",
   "execution_count": 9,
   "metadata": {},
   "outputs": [
    {
     "name": "stdout",
     "output_type": "stream",
     "text": [
      "Processed ACSDP5Y2011.DP03-Data.csv\n",
      "Processed ACSDP5Y2012.DP03-Data.csv\n",
      "Processed ACSDP5Y2013.DP03-Data.csv\n",
      "Processed ACSDP5Y2014.DP03-Data.csv\n",
      "Processed ACSDP5Y2015.DP03-Data.csv\n",
      "Processed ACSDP5Y2016.DP03-Data.csv\n",
      "Processed ACSDP5Y2017.DP03-Data.csv\n",
      "Processed ACSDP5Y2018.DP03-Data.csv\n",
      "Processed ACSDP5Y2019.DP03-Data.csv\n",
      "Processed ACSDP5Y2020.DP03-Data.csv\n",
      "Processed ACSDP5Y2021.DP03-Data.csv\n",
      "Processed ACSDP5Y2022.DP03-Data.csv\n",
      "Processed ACSDP5Y2023.DP03-Data.csv\n",
      "All files processed.\n"
     ]
    }
   ],
   "source": [
    "import os\n",
    "import pandas as pd\n",
    "\n",
    "# Path to your folder containing the files\n",
    "folder_path = 'D'\n",
    "\n",
    "# List of columns to drop\n",
    "columns_to_drop = ['DP02_0015PE', 'DP02_0016PE', 'DP02_0038PE', 'DP02_0039PE', 'DP02_0040PE', 'DP02_0041PE', 'DP02_0042PE', 'DP02_0043PE', 'DP02_0070PE', 'DP02_0071PE', 'DP02_0072PE', 'DP02_0073PE', 'DP02_0074PE', 'DP02_0075PE', 'DP02_0076PE', 'DP02_0077PE', 'DP02_0150PE', 'DP02_0151PE', 'DP02_0152PE', 'DP02_0003PE', 'DP02_0005PE', 'DP02_0007PE', 'DP02_0011PE', 'DP02_0017PE']\n",
    "\n",
    "# Loop through each file in the folder\n",
    "for filename in os.listdir(folder_path):\n",
    "    file_path = os.path.join(folder_path, filename)\n",
    "    \n",
    "    # Check if the file is a CSV (or adjust based on your file type)\n",
    "    if filename.endswith('.csv'):\n",
    "        # Load the file into a DataFrame\n",
    "        df = pd.read_csv(file_path)\n",
    "        df = df.apply(pd.to_numeric, errors='coerce')\n",
    "        df_columns_to_normalize = ['DP03_0062E','DP03_0063E']\n",
    "        for column in df_columns_to_normalize:\n",
    "            min_val = df[column].min()\n",
    "            max_val = df[column].max()\n",
    "            df[column] = 1 + ((df[column] - min_val) * (100 - 1)) / (max_val - min_val)\n",
    "        # Save the modified DataFrame back to the same file (or a new file)\n",
    "        df.to_csv(file_path, index=False)\n",
    "\n",
    "        print(f\"Processed {filename}\")\n",
    "\n",
    "print(\"All files processed.\")\n"
   ]
  },
  {
   "cell_type": "code",
   "execution_count": 10,
   "metadata": {},
   "outputs": [
    {
     "name": "stderr",
     "output_type": "stream",
     "text": [
      "C:\\Users\\valer\\AppData\\Roaming\\Python\\Python37\\site-packages\\IPython\\core\\interactiveshell.py:3258: DtypeWarning: Columns (2,9,11,15,17,19,27,33,47,52,76,90) have mixed types.Specify dtype option on import or set low_memory=False.\n",
      "  interactivity=interactivity, compiler=compiler, result=result)\n"
     ]
    },
    {
     "name": "stdout",
     "output_type": "stream",
     "text": [
      "Processed and saved: ACSDP5Y2011.DP03-Data.csv\n"
     ]
    },
    {
     "name": "stderr",
     "output_type": "stream",
     "text": [
      "C:\\Users\\valer\\AppData\\Roaming\\Python\\Python37\\site-packages\\IPython\\core\\interactiveshell.py:3258: DtypeWarning: Columns (2,9,11,15,17,19,27,33,47,52,76,90,96,101,103,104,105,110,115) have mixed types.Specify dtype option on import or set low_memory=False.\n",
      "  interactivity=interactivity, compiler=compiler, result=result)\n"
     ]
    },
    {
     "name": "stdout",
     "output_type": "stream",
     "text": [
      "Processed and saved: ACSDP5Y2012.DP03-Data.csv\n",
      "Processed and saved: ACSDP5Y2013.DP03-Data.csv\n",
      "Processed and saved: ACSDP5Y2014.DP03-Data.csv\n",
      "Processed and saved: ACSDP5Y2015.DP03-Data.csv\n",
      "Processed and saved: ACSDP5Y2016.DP03-Data.csv\n",
      "Processed and saved: ACSDP5Y2017.DP03-Data.csv\n",
      "Processed and saved: ACSDP5Y2018.DP03-Data.csv\n",
      "Processed and saved: ACSDP5Y2019.DP03-Data.csv\n",
      "Processed and saved: ACSDP5Y2020.DP03-Data.csv\n",
      "Processed and saved: ACSDP5Y2021.DP03-Data.csv\n",
      "Processed and saved: ACSDP5Y2022.DP03-Data.csv\n",
      "Processed and saved: ACSDP5Y2023.DP03-Data.csv\n"
     ]
    }
   ],
   "source": [
    "import pandas as pd\n",
    "import os\n",
    "\n",
    "# Define folder paths\n",
    "dp03_folder = \"D\"\n",
    "data_dp03_folder = \"data/DP03\"\n",
    "\n",
    "# Ensure the target folder exists\n",
    "os.makedirs(data_dp03_folder, exist_ok=True)\n",
    "\n",
    "# Loop through all files in the DP03 folder\n",
    "for file in os.listdir(dp03_folder):\n",
    "    if file.endswith(\".csv\"):  # Ensure it's a CSV file\n",
    "        # Define paths for both DP03 and data/dp03\n",
    "        dp03_file_path = os.path.join(dp03_folder, file)\n",
    "        data_file_path = os.path.join(data_dp03_folder, file)\n",
    "        \n",
    "        # Check if the corresponding file exists in the data/dp03 folder\n",
    "        if os.path.exists(data_file_path):\n",
    "            # Load both files as DataFrames\n",
    "            df_dp03 = pd.read_csv(dp03_file_path)\n",
    "            df_data = pd.read_csv(data_file_path)\n",
    "            \n",
    "            # Extract the columns from the DP03 file (e.g., columns ending in 'E')\n",
    "            columns_to_attach = [col for col in df_dp03.columns if col.endswith('E')]\n",
    "            \n",
    "            # Attach the columns to the data file (from data/dp03 folder)\n",
    "            df_data[columns_to_attach] = df_dp03[columns_to_attach]\n",
    "            \n",
    "            # Save the updated file back to the data/dp03 folder\n",
    "            df_data.to_csv(data_file_path, index=False)\n",
    "            print(f\"Processed and saved: {file}\")\n",
    "        else:\n",
    "            print(f\"File {file} does not exist in data/dp03\")\n"
   ]
  },
  {
   "cell_type": "code",
   "execution_count": 13,
   "metadata": {},
   "outputs": [
    {
     "name": "stderr",
     "output_type": "stream",
     "text": [
      "C:\\Users\\valer\\AppData\\Roaming\\Python\\Python37\\site-packages\\IPython\\core\\interactiveshell.py:3258: DtypeWarning: Columns (2,18,24,30,37,40,46,56,58,66,73,76,77,80,83,90,102) have mixed types.Specify dtype option on import or set low_memory=False.\n",
      "  interactivity=interactivity, compiler=compiler, result=result)\n"
     ]
    },
    {
     "name": "stdout",
     "output_type": "stream",
     "text": [
      "Processed and saved: ACSDP5Y2011.DP02-Data.csv\n",
      "Processed and saved: ACSDP5Y2012.DP02-Data.csv\n",
      "Processed and saved: ACSDP5Y2013.DP02-Data.csv\n",
      "Processed and saved: ACSDP5Y2014.DP02-Data.csv\n",
      "Processed and saved: ACSDP5Y2015.DP02-Data.csv\n",
      "Processed and saved: ACSDP5Y2016.DP02-Data.csv\n",
      "Processed and saved: ACSDP5Y2017.DP02-Data.csv\n",
      "Processed and saved: ACSDP5Y2018.DP02-Data.csv\n"
     ]
    },
    {
     "name": "stderr",
     "output_type": "stream",
     "text": [
      "C:\\Users\\valer\\AppData\\Roaming\\Python\\Python37\\site-packages\\IPython\\core\\interactiveshell.py:3258: DtypeWarning: Columns (2,12,19,25,31,32,38,41,47,57,59,67,74,77,78,81,84,91,103) have mixed types.Specify dtype option on import or set low_memory=False.\n",
      "  interactivity=interactivity, compiler=compiler, result=result)\n"
     ]
    },
    {
     "name": "stdout",
     "output_type": "stream",
     "text": [
      "Processed and saved: ACSDP5Y2019.DP02-Data.csv\n"
     ]
    },
    {
     "name": "stderr",
     "output_type": "stream",
     "text": [
      "C:\\Users\\valer\\AppData\\Roaming\\Python\\Python37\\site-packages\\IPython\\core\\interactiveshell.py:3258: DtypeWarning: Columns (2,12,19,25,31,32,38,41,47,57,59,68,75,78,79,82,85,92,104) have mixed types.Specify dtype option on import or set low_memory=False.\n",
      "  interactivity=interactivity, compiler=compiler, result=result)\n"
     ]
    },
    {
     "name": "stdout",
     "output_type": "stream",
     "text": [
      "Processed and saved: ACSDP5Y2020.DP02-Data.csv\n",
      "Processed and saved: ACSDP5Y2021.DP02-Data.csv\n",
      "Processed and saved: ACSDP5Y2022.DP02-Data.csv\n",
      "Processed and saved: ACSDP5Y2023.DP02-Data.csv\n"
     ]
    }
   ],
   "source": [
    "import pandas as pd\n",
    "import os\n",
    "\n",
    "# Define the folder path for data/dp03\n",
    "data_dp03_folder = \"data/dp02\"\n",
    "\n",
    "# List of columns to drop from DP03 data\n",
    "columns_to_drop = [\n",
    "    'DP03_0025PE', 'DP03_0062PE', 'DP03_0063PE', 'DP03_0065PE', 'DP03_0067PE', 'DP03_0069PE',\n",
    "    'DP03_0071PE', 'DP03_0073PE', 'DP03_0086PE', 'DP03_0087PE', 'DP03_0088PE', 'DP03_0090PE',\n",
    "    'DP03_0091PE', 'DP03_0092PE', 'DP03_0093PE', 'DP03_0094PE', 'DP03_0095PE', 'DP03_0096PE',\n",
    "    'DP03_0097PE', 'DP03_0098PE', 'DP03_0099PE', 'DP03_0100PE', 'DP03_0101PE', 'DP03_0102PE',\n",
    "    'DP03_0103PE', 'DP03_0104PE', 'DP03_0105PE', 'DP03_0106PE', 'DP03_0107PE', 'DP03_0108PE',\n",
    "    'DP03_0109PE', 'DP03_0110PE', 'DP03_0111PE', 'DP03_0112PE', 'DP03_0113PE', 'DP03_0114PE',\n",
    "    'DP03_0115PE', 'DP03_0116PE', 'DP03_0117PE', 'DP03_0118PE'\n",
    "]\n",
    "\n",
    "# Ensure the target folder exists\n",
    "os.makedirs(data_dp03_folder, exist_ok=True)\n",
    "\n",
    "# Loop through all files in the data/dp03 folder\n",
    "for file in os.listdir(data_dp03_folder):\n",
    "    if file.endswith(\".csv\"):  # Ensure it's a CSV file\n",
    "        # Define path for the file in the data/dp03 folder\n",
    "        data_file_path = os.path.join(data_dp03_folder, file)\n",
    "\n",
    "        # Load the CSV file as a DataFrame\n",
    "        df_data = pd.read_csv(data_file_path)\n",
    "\n",
    "        # Drop the specified columns from the DataFrame\n",
    "        df_data['GEO_ID'] = df_data['GEO_ID'].astype(str).str[-5:]\n",
    "        # Save the modified file back to the data/dp03 folder\n",
    "        df_data.to_csv(data_file_path, index=False)\n",
    "        print(f\"Processed and saved: {file}\")\n"
   ]
  },
  {
   "cell_type": "code",
   "execution_count": 7,
   "metadata": {},
   "outputs": [
    {
     "name": "stderr",
     "output_type": "stream",
     "text": [
      "C:\\Users\\valer\\AppData\\Roaming\\Python\\Python37\\site-packages\\IPython\\core\\interactiveshell.py:3258: DtypeWarning: Columns (2,3,4,6,7,10,11,14,15,18,19,22,23,26,27,30,31,32,38,39,40,42,43,46,47,50,51,54,55,56,58,59,62,63,64,66,67,70,71,72,74,75,78,79,82,83,86,87,90,91,94,95,102,103,104,106,107,110,111,114,115,118,119,122,123,126,127,128,130,131,134,135,138,139,142,143,146,147,150,151,154,155,158,159,162,163,166,167,170,171,174,175,178,179,182,183,184,186,187,190,191,194,195,198,199,202,203,204,206,207,210,211,214,215,218,219,222,223,226,227,230,231,234,235,238,239,242,243,254,255,262,263,270,271,278,279,286,287,294,295,298,299,300,302,303,306,307,310,311,314,315,318,319,322,323,326,327,330,331,334,335,338,339,354,355,356) have mixed types.Specify dtype option on import or set low_memory=False.\n",
      "  interactivity=interactivity, compiler=compiler, result=result)\n"
     ]
    },
    {
     "name": "stdout",
     "output_type": "stream",
     "text": [
      "Processed ACSDP5Y2011.DP03-Data.csv\n"
     ]
    },
    {
     "name": "stderr",
     "output_type": "stream",
     "text": [
      "C:\\Users\\valer\\AppData\\Roaming\\Python\\Python37\\site-packages\\IPython\\core\\interactiveshell.py:3258: DtypeWarning: Columns (2,3,4,6,7,10,11,14,15,18,19,22,23,26,27,30,31,32,38,39,40,42,43,46,47,50,51,54,55,56,58,59,62,63,64,66,67,70,71,72,74,75,78,79,82,83,86,87,90,91,94,95,102,103,104,106,107,110,111,114,115,118,119,122,123,126,127,128,130,131,134,135,138,139,142,143,146,147,150,151,154,155,158,159,162,163,166,167,170,171,174,175,178,179,182,183,184,186,187,190,191,194,195,198,199,202,203,204,206,207,210,211,214,215,218,219,222,223,226,227,230,231,234,235,238,239,242,243,254,255,262,263,270,271,278,279,286,287,294,295,298,299,300,302,303,306,307,310,311,314,315,318,319,322,323,326,327,330,331,334,335,338,339,354,355,356,378,379,380,382,383,386,387,390,391,394,395,398,399,400,402,403,406,407,408,410,411,412,414,415,416,418,419,422,423,426,427,430,431,434,435,436,438,439,442,443,446,447,450,451,454,455,456,458,459,462,463,466,467,470,471) have mixed types.Specify dtype option on import or set low_memory=False.\n",
      "  interactivity=interactivity, compiler=compiler, result=result)\n"
     ]
    },
    {
     "name": "stdout",
     "output_type": "stream",
     "text": [
      "Processed ACSDP5Y2012.DP03-Data.csv\n",
      "Processed ACSDP5Y2013.DP03-Data.csv\n",
      "Processed ACSDP5Y2014.DP03-Data.csv\n",
      "Processed ACSDP5Y2015.DP03-Data.csv\n",
      "Processed ACSDP5Y2016.DP03-Data.csv\n"
     ]
    },
    {
     "name": "stderr",
     "output_type": "stream",
     "text": [
      "C:\\Users\\valer\\AppData\\Roaming\\Python\\Python37\\site-packages\\IPython\\core\\interactiveshell.py:3258: DtypeWarning: Columns (2,3,4,5,6,7,8,9,10,11,12,13,14,15,16,17,20,21,22,23,24,25,26,27,28,29,30,31,32,33,34,35,36,37,38,39,40,41,42,43,44,45,46,47,48,49,52,53,54,55,56,57,58,59,60,61,62,63,64,65,66,67,68,69,70,71,72,73,74,75,76,77,78,79,80,81,82,83,84,85,86,87,88,89,90,91,92,93,94,95,96,97,98,99,100,101,102,103,104,105,106,107,108,109,110,111,112,113,114,115,116,117,118,119,120,121,122,123,128,129,132,133,136,137,140,141,144,145,148,149,150,151,152,153,154,155,156,157,158,159,160,161,162,163,164,165,166,167,168,169,170,171,178,179,190,191,192,193,194,195,196,197,198,199,200,201,202,203,204,205,206,207,208,209,210,211,212,213,214,215,216,217,218,219,220,221,222,223,224,225,226,227,228,229,230,231,232,233,234,235,236,237,276,290,294,302,306,310,326,338,366,376,424,452,464,474,478,480,482,492,502) have mixed types.Specify dtype option on import or set low_memory=False.\n",
      "  interactivity=interactivity, compiler=compiler, result=result)\n"
     ]
    },
    {
     "name": "stdout",
     "output_type": "stream",
     "text": [
      "Processed ACSDP5Y2017.DP03-Data.csv\n"
     ]
    },
    {
     "name": "stderr",
     "output_type": "stream",
     "text": [
      "C:\\Users\\valer\\AppData\\Roaming\\Python\\Python37\\site-packages\\IPython\\core\\interactiveshell.py:3258: DtypeWarning: Columns (2,3,4,5,6,7,8,9,10,11,12,13,14,15,16,17,20,21,22,23,24,25,26,27,28,29,30,31,32,33,34,35,36,37,38,39,40,41,42,43,44,45,46,47,48,49,52,53,54,55,56,57,58,59,60,61,62,63,64,65,66,67,68,69,70,71,72,73,74,75,76,77,78,79,80,81,82,83,84,85,86,87,88,89,90,91,92,93,94,95,96,97,98,99,100,101,102,103,104,105,106,107,108,109,110,111,112,113,114,115,116,117,118,119,120,121,122,123,128,129,132,133,136,137,140,141,144,145,148,149,150,151,152,153,154,155,156,157,158,159,160,161,162,163,164,165,166,167,168,169,170,171,178,179,190,191,192,193,194,195,196,197,198,199,200,201,202,203,204,205,206,207,208,209,210,211,212,213,214,215,216,217,218,219,220,221,222,223,224,225,226,227,228,229,230,231,232,233,234,235,236,237,276,278,279,280,281,282,283,284,285,286,287,288,289,290,294,296,297,298,299,300,301,302,306,310,326,338,366,376,424,452,464,466,467,468,469,470,471,472,473,474,478,480,482,492,502,530,531,540,541) have mixed types.Specify dtype option on import or set low_memory=False.\n",
      "  interactivity=interactivity, compiler=compiler, result=result)\n"
     ]
    },
    {
     "name": "stdout",
     "output_type": "stream",
     "text": [
      "Processed ACSDP5Y2018.DP03-Data.csv\n",
      "Processed ACSDP5Y2019.DP03-Data.csv\n",
      "Processed ACSDP5Y2020.DP03-Data.csv\n",
      "Processed ACSDP5Y2021.DP03-Data.csv\n",
      "Processed ACSDP5Y2022.DP03-Data.csv\n",
      "Processed ACSDP5Y2023.DP03-Data.csv\n",
      "All files processed.\n"
     ]
    }
   ],
   "source": [
    "import os\n",
    "import pandas as pd\n",
    "\n",
    "# Path to your folder containing the files\n",
    "folder_path = 'D'\n",
    "\n",
    "# Loop through each file in the folder\n",
    "for filename in os.listdir(folder_path):\n",
    "    file_path = os.path.join(folder_path, filename)\n",
    "    \n",
    "    # Check if the file is a CSV (or adjust based on your file type)\n",
    "    if filename.endswith('.csv'):\n",
    "        # Load the file into a DataFrame\n",
    "        df = pd.read_csv(file_path)\n",
    "        \n",
    "        # Filter columns that start with 'DP03'\n",
    "        dp03_columns = [col for col in df.columns if col.endswith('62E') or col.endswith('63E')]\n",
    "        df_dp03 = df[dp03_columns]\n",
    "        \n",
    "        # Save the filtered DataFrame back to the same file (or a new file)\n",
    "        df_dp03.to_csv(file_path, index=False)\n",
    "\n",
    "        print(f\"Processed {filename}\")\n",
    "\n",
    "print(\"All files processed.\")\n"
   ]
  }
 ],
 "metadata": {
  "kernelspec": {
   "display_name": "Python 3",
   "language": "python",
   "name": "python3"
  },
  "language_info": {
   "codemirror_mode": {
    "name": "ipython",
    "version": 3
   },
   "file_extension": ".py",
   "mimetype": "text/x-python",
   "name": "python",
   "nbconvert_exporter": "python",
   "pygments_lexer": "ipython3",
   "version": "3.7.0"
  }
 },
 "nbformat": 4,
 "nbformat_minor": 2
}
