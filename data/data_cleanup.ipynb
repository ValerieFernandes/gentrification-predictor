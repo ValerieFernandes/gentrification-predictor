{
 "cells": [
  {
   "cell_type": "code",
   "execution_count": null,
   "metadata": {},
   "outputs": [
    {
     "name": "stdout",
     "output_type": "stream",
     "text": [
      "Processed: ACSDP5Y2011.DP02-Data.csv\n",
      "Processed: ACSDP5Y2012.DP02-Data.csv\n",
      "Processed: ACSDP5Y2013.DP02-Data.csv\n",
      "Processed: ACSDP5Y2014.DP02-Data.csv\n",
      "Processed: ACSDP5Y2015.DP02-Data.csv\n",
      "Processed: ACSDP5Y2016.DP02-Data.csv\n",
      "Processed: ACSDP5Y2017.DP02-Data.csv\n",
      "Processed: ACSDP5Y2018.DP02-Data.csv\n",
      "Processed: ACSDP5Y2019.DP02-Data.csv\n",
      "Processed: ACSDP5Y2020.DP02-Data.csv\n",
      "Processed: ACSDP5Y2021.DP02-Data.csv\n",
      "Processed: ACSDP5Y2022.DP02-Data.csv\n",
      "Processed: ACSDP5Y2023.DP02-Data.csv\n",
      "Processed: ACSDP5Y2011.DP03-Data.csv\n",
      "Processed: ACSDP5Y2012.DP03-Data.csv\n",
      "Processed: ACSDP5Y2013.DP03-Data.csv\n",
      "Processed: ACSDP5Y2014.DP03-Data.csv\n",
      "Processed: ACSDP5Y2015.DP03-Data.csv\n",
      "Processed: ACSDP5Y2016.DP03-Data.csv\n",
      "Processed: ACSDP5Y2017.DP03-Data.csv\n",
      "Processed: ACSDP5Y2018.DP03-Data.csv\n",
      "Processed: ACSDP5Y2019.DP03-Data.csv\n",
      "Processed: ACSDP5Y2020.DP03-Data.csv\n",
      "Processed: ACSDP5Y2021.DP03-Data.csv\n",
      "Processed: ACSDP5Y2022.DP03-Data.csv\n",
      "Processed: ACSDP5Y2023.DP03-Data.csv\n"
     ]
    }
   ],
   "source": [
    "import pandas as pd\n",
    "import os\n",
    "\n",
    "\n",
    "folder_paths = [\"DP02\", \"DP03\"]\n",
    "\n",
    "for folder_path in folder_paths:\n",
    "    for file in os.listdir(folder_path):\n",
    "        file_path = os.path.join(folder_path, file)\n",
    "\n",
    "        df = pd.read_csv(file_path)\n",
    "\n",
    "        #  We only want the first two columns (geographic area name, code) \n",
    "        #  And columns with suffix \"PE\" (percent estimate)\n",
    "\n",
    "        selected_columns = df.columns[:2].tolist() + [col for col in df.columns if col.endswith(\"PE\")]\n",
    "        df_filtered = df[selected_columns]\n",
    "\n",
    "        df_filtered.to_csv(file_path, index=False)\n",
    "\n",
    "        # ZCTA's from puetro rico (range 00600-00999) do not have the DP02 data\n",
    "        # thus we have chosen to exclude these areas from our analysis\n",
    "        pattern = r\"8600000US(00[6-9][0-9][0-9])$\"\n",
    "        df_filtered = df[~df[\"GEO_ID\"].astype(str).str.match(pattern, na=False)]\n",
    "\n",
    "        df_filtered.to_csv(file_path, index=False)\n",
    "        print(f\"Processed: {file}\")\n"
   ]
  },
  {
   "cell_type": "code",
   "execution_count": null,
   "metadata": {},
   "outputs": [],
   "source": []
  }
 ],
 "metadata": {
  "kernelspec": {
   "display_name": "Python 3",
   "language": "python",
   "name": "python3"
  },
  "language_info": {
   "codemirror_mode": {
    "name": "ipython",
    "version": 3
   },
   "file_extension": ".py",
   "mimetype": "text/x-python",
   "name": "python",
   "nbconvert_exporter": "python",
   "pygments_lexer": "ipython3",
   "version": "3.7.0"
  }
 },
 "nbformat": 4,
 "nbformat_minor": 2
}
