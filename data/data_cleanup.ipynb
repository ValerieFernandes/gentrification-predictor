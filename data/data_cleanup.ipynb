{
 "cells": [
  {
   "cell_type": "code",
   "execution_count": null,
   "metadata": {},
   "outputs": [
    {
     "name": "stdout",
     "output_type": "stream",
     "text": [
      "Processed: ACSDP5Y2011.DP02-Data.csv\n",
      "Processed: ACSDP5Y2012.DP02-Data.csv\n",
      "Processed: ACSDP5Y2013.DP02-Data.csv\n",
      "Processed: ACSDP5Y2014.DP02-Data.csv\n",
      "Processed: ACSDP5Y2015.DP02-Data.csv\n",
      "Processed: ACSDP5Y2016.DP02-Data.csv\n",
      "Processed: ACSDP5Y2017.DP02-Data.csv\n",
      "Processed: ACSDP5Y2018.DP02-Data.csv\n",
      "Processed: ACSDP5Y2019.DP02-Data.csv\n",
      "Processed: ACSDP5Y2020.DP02-Data.csv\n",
      "Processed: ACSDP5Y2021.DP02-Data.csv\n",
      "Processed: ACSDP5Y2022.DP02-Data.csv\n",
      "Processed: ACSDP5Y2023.DP02-Data.csv\n",
      "Processed: ACSDP5Y2011.DP03-Data.csv\n",
      "Processed: ACSDP5Y2012.DP03-Data.csv\n",
      "Processed: ACSDP5Y2013.DP03-Data.csv\n",
      "Processed: ACSDP5Y2014.DP03-Data.csv\n",
      "Processed: ACSDP5Y2015.DP03-Data.csv\n",
      "Processed: ACSDP5Y2016.DP03-Data.csv\n",
      "Processed: ACSDP5Y2017.DP03-Data.csv\n",
      "Processed: ACSDP5Y2018.DP03-Data.csv\n",
      "Processed: ACSDP5Y2019.DP03-Data.csv\n",
      "Processed: ACSDP5Y2020.DP03-Data.csv\n",
      "Processed: ACSDP5Y2021.DP03-Data.csv\n",
      "Processed: ACSDP5Y2022.DP03-Data.csv\n",
      "Processed: ACSDP5Y2023.DP03-Data.csv\n"
     ]
    }
   ],
   "source": [
    "import pandas as pd\n",
    "import os\n",
    "\n",
    "\n",
    "folder_paths = [\"DP02\", \"DP03\"]\n",
    "\n",
    "for folder_path in folder_paths:\n",
    "    for file in os.listdir(folder_path):\n",
    "        file_path = os.path.join(folder_path, file)\n",
    "\n",
    "        df = pd.read_csv(file_path)\n",
    "\n",
    "        #  We only want the first two columns (geographic area name, code) \n",
    "        #  And columns with suffix \"PE\" (percent estimate)\n",
    "        selected_columns = df.columns[:2].tolist() + [col for col in df.columns if col.endswith(\"PE\")]\n",
    "        df_filtered = df[selected_columns]\n",
    "\n",
    "        # Extract ZCTA from the \"GEO_ID\" column\n",
    "        df['GEO_ID'] = df['GEO_ID'].astype(str).str[-5:]\n",
    "\n",
    "        # ZCTA's from puetro rico (range 00600-00999) do not have the DP02 data\n",
    "        # thus we have chosen to exclude these areas from our analysis\n",
    "        pattern = r\"8600000US(00[6-9][0-9][0-9])$\"\n",
    "        df_filtered = df[~df[\"GEO_ID\"].astype(str).str.match(pattern, na=False)]\n",
    "\n",
    "        df_filtered.to_csv(file_path, index=False)\n",
    "        print(f\"Processed: {file}\")\n"
   ]
  },
  {
   "cell_type": "code",
   "execution_count": null,
   "metadata": {},
   "outputs": [
    {
     "name": "stdout",
     "output_type": "stream",
     "text": [
      "DP02\n"
     ]
    },
    {
     "name": "stderr",
     "output_type": "stream",
     "text": [
      "C:\\Users\\valer\\AppData\\Roaming\\Python\\Python37\\site-packages\\IPython\\core\\interactiveshell.py:3258: DtypeWarning: Columns (2,18,25,31,37,44,50,53,59,69,79,87,94,97,98,101,104,111,123) have mixed types.Specify dtype option on import or set low_memory=False.\n",
      "  interactivity=interactivity, compiler=compiler, result=result)\n",
      "C:\\Users\\valer\\AppData\\Roaming\\Python\\Python37\\site-packages\\IPython\\core\\interactiveshell.py:3258: DtypeWarning: Columns (2,18,25,31,37,44,50,53,59,69,71,73,75,77,79,87,94,97,98,101,104,111,123) have mixed types.Specify dtype option on import or set low_memory=False.\n",
      "  interactivity=interactivity, compiler=compiler, result=result)\n",
      "C:\\Users\\valer\\AppData\\Roaming\\Python\\Python37\\site-packages\\IPython\\core\\interactiveshell.py:3258: DtypeWarning: Columns (2,18,25,31,37,44,50,53,59,69,71,73,75,77,79,87,94,97,98,101,104,111,123,151) have mixed types.Specify dtype option on import or set low_memory=False.\n",
      "  interactivity=interactivity, compiler=compiler, result=result)\n",
      "C:\\Users\\valer\\AppData\\Roaming\\Python\\Python37\\site-packages\\IPython\\core\\interactiveshell.py:3258: DtypeWarning: Columns (2,19,26,32,38,45,51,54,60,70,72,74,76,78,80,88,95,98,99,102,105,112,124,152) have mixed types.Specify dtype option on import or set low_memory=False.\n",
      "  interactivity=interactivity, compiler=compiler, result=result)\n",
      "C:\\Users\\valer\\AppData\\Roaming\\Python\\Python37\\site-packages\\IPython\\core\\interactiveshell.py:3258: DtypeWarning: Columns (2,19,26,32,38,45,51,54,60,70,72,74,76,78,80,89,96,99,100,103,106,113,125,153) have mixed types.Specify dtype option on import or set low_memory=False.\n",
      "  interactivity=interactivity, compiler=compiler, result=result)\n"
     ]
    },
    {
     "name": "stdout",
     "output_type": "stream",
     "text": [
      "Year 2011: Missing columns -> ['DP02_0015PE', 'DP02_0016PE', 'DP02_0038PE', 'DP02_0039PE', 'DP02_0040PE', 'DP02_0041PE', 'DP02_0042PE', 'DP02_0070PE', 'DP02_0071PE', 'DP02_0072PE', 'DP02_0073PE', 'DP02_0074PE', 'DP02_0075PE', 'DP02_0076PE', 'DP02_0077PE']\n",
      "Year 2012: Missing columns -> ['DP02_0015PE', 'DP02_0016PE', 'DP02_0038PE', 'DP02_0039PE', 'DP02_0040PE', 'DP02_0041PE', 'DP02_0042PE']\n",
      "Year 2013: Missing columns -> ['DP02_0015PE', 'DP02_0016PE', 'DP02_0038PE', 'DP02_0039PE', 'DP02_0040PE', 'DP02_0041PE', 'DP02_0042PE', 'DP02_0150PE', 'DP02_0151PE', 'DP02_0152PE']\n",
      "Year 2014: Missing columns -> ['DP02_0015PE', 'DP02_0016PE', 'DP02_0038PE', 'DP02_0039PE', 'DP02_0040PE', 'DP02_0041PE', 'DP02_0042PE', 'DP02_0150PE', 'DP02_0151PE', 'DP02_0152PE']\n",
      "Year 2015: Missing columns -> ['DP02_0015PE', 'DP02_0016PE', 'DP02_0038PE', 'DP02_0039PE', 'DP02_0040PE', 'DP02_0041PE', 'DP02_0042PE', 'DP02_0150PE', 'DP02_0151PE', 'DP02_0152PE']\n",
      "Year 2016: Missing columns -> ['DP02_0015PE', 'DP02_0016PE', 'DP02_0038PE', 'DP02_0039PE', 'DP02_0040PE', 'DP02_0041PE', 'DP02_0042PE', 'DP02_0150PE', 'DP02_0151PE', 'DP02_0152PE']\n",
      "Year 2017: Missing columns -> ['DP02_0015PE', 'DP02_0016PE', 'DP02_0038PE', 'DP02_0039PE', 'DP02_0040PE', 'DP02_0041PE', 'DP02_0042PE']\n",
      "Year 2018: Missing columns -> ['DP02_0015PE', 'DP02_0016PE', 'DP02_0038PE', 'DP02_0039PE', 'DP02_0040PE', 'DP02_0041PE', 'DP02_0042PE']\n",
      "Year 2019: Missing columns -> ['DP02_0016PE', 'DP02_0017PE', 'DP02_0039PE', 'DP02_0040PE', 'DP02_0041PE', 'DP02_0042PE', 'DP02_0043PE']\n",
      "Year 2020: Missing columns -> ['DP02_0003PE', 'DP02_0005PE', 'DP02_0007PE', 'DP02_0011PE', 'DP02_0016PE', 'DP02_0017PE', 'DP02_0039PE', 'DP02_0040PE', 'DP02_0041PE', 'DP02_0042PE', 'DP02_0043PE']\n",
      "Year 2021: Missing columns -> ['DP02_0016PE', 'DP02_0017PE', 'DP02_0039PE', 'DP02_0040PE', 'DP02_0041PE', 'DP02_0042PE', 'DP02_0043PE']\n",
      "Year 2022: Missing columns -> ['DP02_0016PE', 'DP02_0017PE', 'DP02_0039PE', 'DP02_0040PE', 'DP02_0041PE', 'DP02_0042PE', 'DP02_0043PE']\n",
      "Year 2023: Missing columns -> ['DP02_0016PE', 'DP02_0017PE', 'DP02_0039PE', 'DP02_0040PE', 'DP02_0041PE', 'DP02_0042PE', 'DP02_0043PE']\n",
      "DP03\n"
     ]
    },
    {
     "name": "stderr",
     "output_type": "stream",
     "text": [
      "C:\\Users\\valer\\AppData\\Roaming\\Python\\Python37\\site-packages\\IPython\\core\\interactiveshell.py:3258: DtypeWarning: Columns (2,9,11,15,17,19,27,33,47,52,76,90) have mixed types.Specify dtype option on import or set low_memory=False.\n",
      "  interactivity=interactivity, compiler=compiler, result=result)\n",
      "C:\\Users\\valer\\AppData\\Roaming\\Python\\Python37\\site-packages\\IPython\\core\\interactiveshell.py:3258: DtypeWarning: Columns (2,9,11,15,17,19,27,33,47,52,76,90,96,101,103,104,105,110,115) have mixed types.Specify dtype option on import or set low_memory=False.\n",
      "  interactivity=interactivity, compiler=compiler, result=result)\n"
     ]
    },
    {
     "name": "stdout",
     "output_type": "stream",
     "text": [
      "Year 2011: Missing columns -> ['DP03_0025PE', 'DP03_0062PE', 'DP03_0063PE', 'DP03_0065PE', 'DP03_0067PE', 'DP03_0069PE', 'DP03_0071PE', 'DP03_0073PE', 'DP03_0086PE', 'DP03_0087PE', 'DP03_0088PE', 'DP03_0090PE', 'DP03_0091PE', 'DP03_0092PE', 'DP03_0093PE', 'DP03_0094PE', 'DP03_0095PE', 'DP03_0096PE', 'DP03_0097PE', 'DP03_0098PE', 'DP03_0099PE', 'DP03_0100PE', 'DP03_0101PE', 'DP03_0102PE', 'DP03_0103PE', 'DP03_0104PE', 'DP03_0105PE', 'DP03_0106PE', 'DP03_0107PE', 'DP03_0108PE', 'DP03_0109PE', 'DP03_0110PE', 'DP03_0111PE', 'DP03_0112PE', 'DP03_0113PE', 'DP03_0114PE', 'DP03_0115PE', 'DP03_0116PE', 'DP03_0117PE', 'DP03_0118PE']\n",
      "Year 2012: Missing columns -> ['DP03_0025PE', 'DP03_0062PE', 'DP03_0063PE', 'DP03_0065PE', 'DP03_0067PE', 'DP03_0069PE', 'DP03_0071PE', 'DP03_0073PE', 'DP03_0086PE', 'DP03_0087PE', 'DP03_0088PE', 'DP03_0090PE', 'DP03_0091PE', 'DP03_0092PE', 'DP03_0093PE', 'DP03_0094PE']\n",
      "Year 2013: Missing columns -> ['DP03_0025PE', 'DP03_0062PE', 'DP03_0063PE', 'DP03_0065PE', 'DP03_0067PE', 'DP03_0069PE', 'DP03_0071PE', 'DP03_0073PE', 'DP03_0086PE', 'DP03_0087PE', 'DP03_0088PE', 'DP03_0090PE', 'DP03_0091PE', 'DP03_0092PE', 'DP03_0093PE', 'DP03_0094PE']\n",
      "Year 2014: Missing columns -> ['DP03_0025PE', 'DP03_0062PE', 'DP03_0063PE', 'DP03_0065PE', 'DP03_0067PE', 'DP03_0069PE', 'DP03_0071PE', 'DP03_0073PE', 'DP03_0086PE', 'DP03_0087PE', 'DP03_0088PE', 'DP03_0090PE', 'DP03_0091PE', 'DP03_0092PE', 'DP03_0093PE', 'DP03_0094PE']\n",
      "Year 2015: Missing columns -> ['DP03_0025PE', 'DP03_0062PE', 'DP03_0063PE', 'DP03_0065PE', 'DP03_0067PE', 'DP03_0069PE', 'DP03_0071PE', 'DP03_0073PE', 'DP03_0086PE', 'DP03_0087PE', 'DP03_0088PE', 'DP03_0090PE', 'DP03_0091PE', 'DP03_0092PE', 'DP03_0093PE', 'DP03_0094PE']\n",
      "Year 2016: Missing columns -> ['DP03_0025PE', 'DP03_0062PE', 'DP03_0063PE', 'DP03_0065PE', 'DP03_0067PE', 'DP03_0069PE', 'DP03_0071PE', 'DP03_0073PE', 'DP03_0086PE', 'DP03_0087PE', 'DP03_0088PE', 'DP03_0090PE', 'DP03_0091PE', 'DP03_0092PE', 'DP03_0093PE', 'DP03_0094PE']\n",
      "Year 2017: Missing columns -> ['DP03_0025PE', 'DP03_0062PE', 'DP03_0063PE', 'DP03_0065PE', 'DP03_0067PE', 'DP03_0069PE', 'DP03_0071PE', 'DP03_0073PE', 'DP03_0086PE', 'DP03_0087PE', 'DP03_0088PE', 'DP03_0090PE', 'DP03_0091PE', 'DP03_0092PE', 'DP03_0093PE', 'DP03_0094PE']\n",
      "Year 2018: Missing columns -> ['DP03_0025PE', 'DP03_0062PE', 'DP03_0063PE', 'DP03_0065PE', 'DP03_0067PE', 'DP03_0069PE', 'DP03_0071PE', 'DP03_0073PE', 'DP03_0086PE', 'DP03_0087PE', 'DP03_0088PE', 'DP03_0090PE', 'DP03_0091PE', 'DP03_0092PE', 'DP03_0093PE', 'DP03_0094PE']\n",
      "Year 2019: Missing columns -> ['DP03_0025PE', 'DP03_0062PE', 'DP03_0063PE', 'DP03_0065PE', 'DP03_0067PE', 'DP03_0069PE', 'DP03_0071PE', 'DP03_0073PE', 'DP03_0086PE', 'DP03_0087PE', 'DP03_0088PE', 'DP03_0090PE', 'DP03_0091PE', 'DP03_0092PE', 'DP03_0093PE', 'DP03_0094PE']\n",
      "Year 2020: Missing columns -> ['DP03_0025PE', 'DP03_0062PE', 'DP03_0063PE', 'DP03_0065PE', 'DP03_0067PE', 'DP03_0069PE', 'DP03_0071PE', 'DP03_0073PE', 'DP03_0086PE', 'DP03_0087PE', 'DP03_0088PE', 'DP03_0090PE', 'DP03_0091PE', 'DP03_0092PE', 'DP03_0093PE', 'DP03_0094PE']\n",
      "Year 2021: Missing columns -> ['DP03_0025PE', 'DP03_0062PE', 'DP03_0063PE', 'DP03_0065PE', 'DP03_0067PE', 'DP03_0069PE', 'DP03_0071PE', 'DP03_0073PE', 'DP03_0086PE', 'DP03_0087PE', 'DP03_0088PE', 'DP03_0090PE', 'DP03_0091PE', 'DP03_0092PE', 'DP03_0093PE', 'DP03_0094PE']\n",
      "Year 2022: Missing columns -> ['DP03_0025PE', 'DP03_0062PE', 'DP03_0063PE', 'DP03_0065PE', 'DP03_0067PE', 'DP03_0069PE', 'DP03_0071PE', 'DP03_0073PE', 'DP03_0086PE', 'DP03_0087PE', 'DP03_0088PE', 'DP03_0090PE', 'DP03_0091PE', 'DP03_0092PE', 'DP03_0093PE', 'DP03_0094PE']\n",
      "Year 2023: Missing columns -> ['DP03_0025PE', 'DP03_0062PE', 'DP03_0063PE', 'DP03_0065PE', 'DP03_0067PE', 'DP03_0069PE', 'DP03_0071PE', 'DP03_0073PE', 'DP03_0086PE', 'DP03_0087PE', 'DP03_0088PE', 'DP03_0090PE', 'DP03_0091PE', 'DP03_0092PE', 'DP03_0093PE', 'DP03_0094PE']\n"
     ]
    }
   ],
   "source": [
    "# Here we are listing the columns that were not collected in a given year \n",
    "# this is to analyze this missing data \n",
    "# the missing columns in DP03 relate to benefits\n",
    "for folder_path in folder_paths:\n",
    "    print (folder_path)\n",
    "    missing_columns_by_year = {}\n",
    "\n",
    "    for file in os.listdir(folder_path):\n",
    "        if file.endswith(\".csv\"):\n",
    "            file_path = os.path.join(folder_path, file)\n",
    "\n",
    "            df = pd.read_csv(file_path)\n",
    "\n",
    "            year = file.split('Y')[1][:4]        \n",
    "\n",
    "            second_row = df.iloc[1]\n",
    "            \n",
    "            # Find columns that contain \"(X)\" in the second row, they were not collected in the given year\n",
    "            missing_columns = second_row[second_row == \"(X)\"].index.tolist()\n",
    "            \n",
    "            missing_columns_by_year[year] = missing_columns\n",
    "\n",
    "    for year, columns in sorted(missing_columns_by_year.items()):\n",
    "        print(f\"Year {year}: Missing columns -> {columns}\")"
   ]
  },
  {
   "cell_type": "code",
   "execution_count": null,
   "metadata": {},
   "outputs": [],
   "source": [
    "# Given that analysis we looked at column headers were able to determine, some were niche data only collected in certain years, we removed those columns\n",
    "# Also included income data which cannot be represented a percentage, so we extracted, normalized and appended those colmns\n",
    "\n",
    "\n",
    "# Removing Columns\n",
    "exclude_columns_dp02 = ['DP02_0015PE', 'DP02_0016PE', 'DP02_0038PE', 'DP02_0039PE', 'DP02_0040PE', 'DP02_0041PE', 'DP02_0042PE']\n",
    "exclude_columns_dp03 = ['DP03_0025PE', 'DP03_0062PE', 'DP03_0063PE', 'DP03_0065PE', 'DP03_0067PE', 'DP03_0069PE', 'DP03_0071PE', 'DP03_0073PE', 'DP03_0086PE', 'DP03_0087PE', 'DP03_0088PE', 'DP03_0090PE', 'DP03_0091PE', 'DP03_0092PE', 'DP03_0093PE', 'DP03_0094PE']\n",
    "\n",
    "for folder_path in folder_paths:\n",
    "    for file in os.listdir(folder_path):\n",
    "     \n",
    "        file_path = os.path.join(folder_path, file)\n",
    "\n",
    "        df = pd.read_csv(file_path)\n",
    "\n",
    "        if folder_path == \"DP02\":\n",
    "            exclude_columns = exclude_columns_dp02\n",
    "        elif folder_path == \"DP03\":\n",
    "            exclude_columns = exclude_columns_dp03\n",
    "\n",
    "        df.drop(columns=exclude_columns, inplace=True, errors='ignore')\n",
    "\n",
    "        df_filtered.to_csv(file_path, index=False)\n",
    "\n",
    "# Extracting, normalizing and adding income\n",
    "folder_path = 'DP03_full' #recopied in data (removed after concatenating)\n",
    "\n",
    "income_columns = ['DP03_0062E','DP03_0063E']\n",
    "\n",
    "for filename in os.listdir(folder_path):\n",
    "    file_path = os.path.join(folder_path, filename)\n",
    "    df = pd.read_csv(file_path)\n",
    "    df = df.apply(pd.to_numeric, errors='coerce')\n",
    "\n",
    "    dp03_file_path = os.path.join('DP03', file)\n",
    "    df_dp03 = pd.read_csv(dp03_file_path)\n",
    "            \n",
    "    # remove ZCTA's from puetro rico (range 00600-00999)\n",
    "    pattern = r\"8600000US(00[6-9][0-9][0-9])$\"\n",
    "    df_filtered = df[~df[\"GEO_ID\"].astype(str).str.match(pattern, na=False)]\n",
    "\n",
    "\n",
    "    for column in income_columns:\n",
    "        min_val = df[column].min()\n",
    "        max_val = df[column].max()\n",
    "        df[column] = 1 + ((df[column] - min_val) * (100 - 1)) / (max_val - min_val)\n",
    "\n",
    "        # concatenate to main data object\n",
    "        df_dp03[column] = df[column]\n",
    "\n",
    "    df_dp03.to_csv(dp03_file_path, index=False)\n",
    "\n"
   ]
  }
 ],
 "metadata": {
  "kernelspec": {
   "display_name": "Python 3",
   "language": "python",
   "name": "python3"
  },
  "language_info": {
   "codemirror_mode": {
    "name": "ipython",
    "version": 3
   },
   "file_extension": ".py",
   "mimetype": "text/x-python",
   "name": "python",
   "nbconvert_exporter": "python",
   "pygments_lexer": "ipython3",
   "version": "3.7.0"
  }
 },
 "nbformat": 4,
 "nbformat_minor": 2
}
