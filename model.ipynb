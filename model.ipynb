{
 "cells": [
  {
   "cell_type": "code",
   "execution_count": 29,
   "metadata": {},
   "outputs": [
    {
     "name": "stdout",
     "output_type": "stream",
     "text": [
      "\n"
     ]
    }
   ],
   "source": [
    "from sklearn.feature_selection import RFECV\n",
    "from sklearn.ensemble import RandomForestClassifier\n",
    "from sklearn.model_selection import StratifiedKFold\n",
    "import matplotlib.pyplot as plt\n",
    "import pandas as pd\n",
    "import numpy as np\n",
    "final_df = pd.read_csv(\"all_combined_data.csv\")\n",
    "\n",
    "# Define Features (X) and Target (y)\n",
    "final_df = final_df[final_df[\"year\"].between(2014, 2018)]\n",
    "final_df = final_df.replace(\"-\", pd.NA)\n",
    "final_df = final_df.replace('(X)', pd.NA)\n",
    "final_df= final_df.fillna(0)\n",
    "final_df = final_df.dropna()\n",
    "final_df = final_df.replace([np.inf, -np.inf], 0)\n",
    "\n",
    "X = final_df.drop(columns=[col for col in final_df.columns if (\"gentrified\" in col or\"NAMELSAD_COUNTY_20\"in col or \"ZCTA\" in col or \"year\" in col or \"NAME\" in col or \"Name\" in col)  ])\n",
    "y = final_df[\"gentrified_2019\"]  # Example: Using gentrification for 2023\n",
    "X = X.replace('(X)', pd.NA)\n",
    "# Handle Missing Values\n",
    "X = X.fillna(0)\n",
    "y = y.fillna(0)\n",
    "X.dropna()\n",
    "X = X.replace([np.inf, -np.inf], 0)\n",
    "y.dropna()\n",
    "y = y.replace([np.inf, -np.inf], 0)\n",
    "# Initialize Model\n",
    "model = RandomForestClassifier(random_state=42)\n",
    "\n",
    "# Recursive Feature Elimination with Cross-Validation (RFECV)\n",
    "rfecv = RFECV(estimator=model, step=1, cv=StratifiedKFold(5), scoring=\"accuracy\", min_features_to_select=5)\n",
    "rfecv.fit(X, y)\n",
    "\n",
    "# Optimal Number of Features\n",
    "optimal_features = rfecv.n_features_\n",
    "print(\"Optimal Number of Features:\", optimal_features)\n",
    "\n",
    "# Selected Features\n",
    "selected_features = X.columns[rfecv.support_].tolist()\n",
    "print(\"Selected Features:\", selected_features)\n",
    "\n",
    "# Plot RFECV Results\n",
    "plt.figure(figsize=(12, 6))\n",
    "plt.title(\"RFECV: Model Performance vs Number of Features\")\n",
    "plt.xlabel(\"Number of Features\")\n",
    "plt.ylabel(\"Cross-Validation Accuracy\")\n",
    "plt.plot(range(1, len(rfecv.grid_scores_) + 1), rfecv.grid_scores_)\n",
    "plt.show()"
   ]
  },
  {
   "cell_type": "code",
   "execution_count": 15,
   "metadata": {},
   "outputs": [
    {
     "name": "stderr",
     "output_type": "stream",
     "text": [
      "C:\\Users\\valer\\AppData\\Roaming\\Python\\Python37\\site-packages\\IPython\\core\\interactiveshell.py:3258: DtypeWarning: Columns (25,26,27,28,29,30,32,34,35,36,42,43,44,45,46,47,49,50,51,52,53,55,56,57,58,59,60,61,62,63,64,65,66,67,69,70,71,72,74,75,76,77,78,79,80,81,82,83,84,85,86,87,88,89,91,92,93,94,95,96,97,98,99,100,102,105,111,116,117,118,119,120,125,126,127,128,129,130,131,132,133,134,135,136,137,138,139,140,141,142,143,144,145,146,147,148,149,150,151,152,153,154,159,160,162,163,168,169,170,171,172,173,174,175,176,177,178,179,180,181,182,183,184,185,186,187,188,189,190,191,192,193,194,195,196,197,198,199,200,201,202,203,204,205,206,207,212,213,214,215,216,217,218,219,220,221,222,223,224,225,226,227,228,229,230,231,232,233,234,235,236,237,238,239,240,241,242,243,244,245,246,247,248,249,250,251,252,253) have mixed types.Specify dtype option on import or set low_memory=False.\n",
      "  interactivity=interactivity, compiler=compiler, result=result)\n"
     ]
    },
    {
     "name": "stdout",
     "output_type": "stream",
     "text": [
      "Model Accuracy: 0.9953081655919835\n"
     ]
    },
    {
     "name": "stderr",
     "output_type": "stream",
     "text": [
      "c:\\Users\\valer\\AppData\\Local\\Programs\\Python\\Python37\\lib\\site-packages\\sklearn\\metrics\\_classification.py:1318: UndefinedMetricWarning: Precision and F-score are ill-defined and being set to 0.0 in labels with no predicted samples. Use `zero_division` parameter to control this behavior.\n",
      "  _warn_prf(average, modifier, msg_start, len(result))\n",
      "c:\\Users\\valer\\AppData\\Local\\Programs\\Python\\Python37\\lib\\site-packages\\sklearn\\metrics\\_classification.py:1318: UndefinedMetricWarning: Precision and F-score are ill-defined and being set to 0.0 in labels with no predicted samples. Use `zero_division` parameter to control this behavior.\n",
      "  _warn_prf(average, modifier, msg_start, len(result))\n"
     ]
    },
    {
     "name": "stdout",
     "output_type": "stream",
     "text": [
      "\n",
      "Classification Report:\n",
      "               precision    recall  f1-score   support\n",
      "\n",
      "       False       1.00      1.00      1.00   1293819\n",
      "        True       0.00      0.00      0.00      6099\n",
      "\n",
      "    accuracy                           1.00   1299918\n",
      "   macro avg       0.50      0.50      0.50   1299918\n",
      "weighted avg       0.99      1.00      0.99   1299918\n",
      "\n"
     ]
    },
    {
     "name": "stderr",
     "output_type": "stream",
     "text": [
      "c:\\Users\\valer\\AppData\\Local\\Programs\\Python\\Python37\\lib\\site-packages\\sklearn\\metrics\\_classification.py:1318: UndefinedMetricWarning: Precision and F-score are ill-defined and being set to 0.0 in labels with no predicted samples. Use `zero_division` parameter to control this behavior.\n",
      "  _warn_prf(average, modifier, msg_start, len(result))\n"
     ]
    }
   ],
   "source": [
    "import pandas as pd\n",
    "from sklearn.ensemble import RandomForestClassifier\n",
    "from sklearn.model_selection import train_test_split\n",
    "from sklearn.metrics import accuracy_score, classification_report\n",
    "\n",
    "final_df = pd.read_csv(\"all_combined_data.csv\")\n",
    "final_df = final_df.replace(\"-\", pd.NA)\n",
    "final_df= final_df.fillna(0)\n",
    "\n",
    "\n",
    "selected_features = [\"DP02_0004PE\", \"DP02_0006PE\", \"DP02_0008PE\", \"DP02_0064PE\", \"DP03_0062E\", \"DP03_0004PE\", \"DP03_0027PE\"]\n",
    "\n",
    "# Step 1: Reshape Data to Have One Target Column\n",
    "# Convert the years 2016-2023 into rows instead of separate columns\n",
    "# Step 1: Reshape Data to Have One Target Column\n",
    "# Convert the years 2016-2023 into rows instead of separate columns\n",
    "gentrification_years = [f\"gentrified_{year}\" for year in range(2016, 2024)]\n",
    "\n",
    "df_melted = final_df.melt(id_vars=[\"ZCTA\", \"year\"] + selected_features, \n",
    "                           value_vars=gentrification_years, \n",
    "                           var_name=\"gentrification_year\", value_name=\"gentrified_status\")\n",
    "\n",
    "# Convert \"gentrification_year\" to an integer (extract the year from the column name)\n",
    "df_melted[\"gentrification_year\"] = df_melted[\"gentrification_year\"].str.extract(\"(\\d+)\").astype(int)\n",
    "\n",
    "# Step 2: Split into Training (2016-2020) and Testing (2021-2023)\n",
    "train_df = df_melted[df_melted[\"gentrification_year\"].between(2016, 2020)]\n",
    "test_df = df_melted[df_melted[\"gentrification_year\"].between(2021, 2023)]\n",
    "\n",
    "# Define Features (X) and Target (y)\n",
    "X_train = train_df[selected_features]\n",
    "y_train = train_df[\"gentrified_status\"]\n",
    "X_test = test_df[selected_features]\n",
    "y_test = test_df[\"gentrified_status\"]\n",
    "\n",
    "# Step 3: Train Random Forest Model\n",
    "from sklearn.ensemble import RandomForestClassifier\n",
    "from sklearn.metrics import accuracy_score, classification_report\n",
    "\n",
    "rf_model = RandomForestClassifier(n_estimators=100, random_state=42)\n",
    "rf_model.fit(X_train, y_train)\n",
    "\n",
    "# Step 4: Make Predictions\n",
    "y_pred = rf_model.predict(X_test)\n",
    "\n",
    "# Step 5: Evaluate Model Performance\n",
    "print(\"Model Accuracy:\", accuracy_score(y_test, y_pred))\n",
    "print(\"\\nClassification Report:\\n\", classification_report(y_test, y_pred))\n"
   ]
  },
  {
   "cell_type": "code",
   "execution_count": 34,
   "metadata": {},
   "outputs": [
    {
     "name": "stdout",
     "output_type": "stream",
     "text": [
      "Predictions saved: gentrification_predictions_2023_2028.csv\n"
     ]
    }
   ],
   "source": [
    "import pandas as pd\n",
    "\n",
    "# Step 1: Prepare Future Data Using a 5-Year Rolling Window\n",
    "future_predictions = []\n",
    "\n",
    "for target_year in range(2023, 2029):  # Predict for 2023-2028\n",
    "    train_start = target_year - 5  # Use past 5 years of data\n",
    "    train_end = target_year - 1\n",
    "\n",
    "    # Get data for the past 5 years\n",
    "    past_5_years_df = df_melted[(df_melted[\"year\"] >= train_start) & (df_melted[\"year\"] <= train_end)]\n",
    "    past_5_years_df = past_5_years_df.apply(pd.to_numeric, errors='coerce')\n",
    "\n",
    "    # Aggregate features: Take means over past 5 years\n",
    "    aggregated_features = past_5_years_df.groupby(\"ZCTA\", as_index=False).mean()\n",
    "\n",
    "    # Store the target year\n",
    "    aggregated_features[\"year\"] = target_year\n",
    "    #print(aggregated_features.columns.to_list)\n",
    "    # Predict Gentrification\n",
    "    X_future = aggregated_features[selected_features]\n",
    "    aggregated_features[\"predicted_gentrification\"] = rf_model.predict(X_future)\n",
    "\n",
    "    # Store results\n",
    "    future_predictions.append(aggregated_features)\n",
    "\n",
    "# Step 2: Combine All Predictions\n",
    "future_predictions_df = pd.concat(future_predictions, ignore_index=True)\n",
    "\n",
    "# Step 3: Save Predictions\n",
    "future_predictions_df.to_csv(\"gentrification_predictions_2023_2028.csv\", index=False)\n",
    "gentrifying_cities = future_predictions_df[future_predictions_df[\"predicted_gentrification\"] == True]\n",
    "gentrifying_cities.to_csv(\"gentrifying_cities_by_2028.csv\", index=False)\n",
    "print(\"Predictions saved: gentrification_predictions_2023_2028.csv\")\n"
   ]
  }
 ],
 "metadata": {
  "kernelspec": {
   "display_name": "Python 3",
   "language": "python",
   "name": "python3"
  },
  "language_info": {
   "codemirror_mode": {
    "name": "ipython",
    "version": 3
   },
   "file_extension": ".py",
   "mimetype": "text/x-python",
   "name": "python",
   "nbconvert_exporter": "python",
   "pygments_lexer": "ipython3",
   "version": "3.7.0"
  }
 },
 "nbformat": 4,
 "nbformat_minor": 2
}
